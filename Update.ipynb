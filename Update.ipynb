{
 "cells": [
  {
   "cell_type": "code",
   "execution_count": 1,
   "id": "valid-hundred",
   "metadata": {},
   "outputs": [],
   "source": [
    "# Google cloud\n",
    "from google.cloud import datastore\n",
    "from google.cloud import storage\n",
    "import traceback\n",
    "from django.http import HttpResponse\n",
    "import json\n",
    "import pandas as pd\n",
    "import numpy as np\n",
    "import datetime\n",
    "import math\n",
    "import matplotlib.pyplot as plt"
   ]
  },
  {
   "cell_type": "code",
   "execution_count": 2,
   "id": "injured-bidder",
   "metadata": {},
   "outputs": [
    {
     "name": "stderr",
     "output_type": "stream",
     "text": [
      "/opt/homebrew/Caskroom/miniforge/base/lib/python3.8/site-packages/google/auth/_default.py:69: UserWarning: Your application has authenticated using end user credentials from Google Cloud SDK without a quota project. You might receive a \"quota exceeded\" or \"API not enabled\" error. We recommend you rerun `gcloud auth application-default login` and make sure a quota project is added. Or you can use service accounts instead. For more information about service accounts, see https://cloud.google.com/docs/authentication/\n",
      "  warnings.warn(_CLOUD_SDK_CREDENTIALS_WARNING)\n",
      "/opt/homebrew/Caskroom/miniforge/base/lib/python3.8/site-packages/google/auth/_default.py:69: UserWarning: Your application has authenticated using end user credentials from Google Cloud SDK without a quota project. You might receive a \"quota exceeded\" or \"API not enabled\" error. We recommend you rerun `gcloud auth application-default login` and make sure a quota project is added. Or you can use service accounts instead. For more information about service accounts, see https://cloud.google.com/docs/authentication/\n",
      "  warnings.warn(_CLOUD_SDK_CREDENTIALS_WARNING)\n"
     ]
    }
   ],
   "source": [
    "storage_client = storage.Client('eps-server')\n",
    "datastore_client = datastore.Client('eps-server')"
   ]
  },
  {
   "cell_type": "code",
   "execution_count": 257,
   "id": "thousand-cutting",
   "metadata": {},
   "outputs": [],
   "source": [
    "devices = {\n",
    "    'b8:27:eb:b7:23:e3': '5081', 'b8:27:eb:74:f3:03': '1934',\n",
    "    'b8:27:eb:ba:15:05': '1884', 'b8:27:eb:a7:8b:ff': '1064', 'b8:27:eb:15:88:2c': '1695', 'b8:27:eb:fd:af:6d': '1699',\n",
    "    'b8:27:eb:1c:2f:04': '5029', 'b8:27:eb:12:c4:6c': '5031', 'b8:27:eb:14:0d:9a': '5033', 'b8:27:eb:50:1a:c2': '5046',\n",
    "    'b8:27:eb:2f:60:9e': '5069', 'b8:27:eb:ab:dd:49': '5148', 'b8:27:eb:69:9f:b7': '5172', 'b8:27:eb:20:3d:2b': '5199',\n",
    "    'b8:27:eb:21:77:56': '5007', 'b8:27:eb:9e:ab:0f': '1093',\n",
    "    'b8:27:eb:03:9c:af': '5027',\n",
    "    'b8:27:eb:5f:b1:34': '5141',\n",
    "    'b8:27:eb:92:6f:f2': '5150',\n",
    "    'b8:27:eb:a6:b3:aa': '5175',\n",
    "    'b8:27:eb:0e:22:a2': '5176',\n",
    "    'b8:27:eb:1f:8d:37': '5178',\n",
    "    'b8:27:eb:a2:75:f1': '5179',\n",
    "    'b8:27:eb:1d:7a:4f': '5184',\n",
    "    'b8:27:eb:1d:94:59': '5190'\n",
    "}"
   ]
  },
  {
   "cell_type": "code",
   "execution_count": 3,
   "id": "bright-request",
   "metadata": {},
   "outputs": [],
   "source": [
    "def get_version(devices):\n",
    "    version = []\n",
    "    query = datastore_client.query(kind='deviceregister')\n",
    "    for device in devices:\n",
    "        #print(device)\n",
    "        key = datastore_client.key('deviceregister', device)\n",
    "        query.key_filter(key, \"=\")\n",
    "        try:\n",
    "            version.append([{key:val for key,val in _.items()} for _ in query.fetch()][0]['release-id'])\n",
    "        except:\n",
    "            pass    \n",
    "    return version"
   ]
  },
  {
   "cell_type": "code",
   "execution_count": 230,
   "id": "small-lingerie",
   "metadata": {},
   "outputs": [
    {
     "data": {
      "text/plain": [
       "[]"
      ]
     },
     "execution_count": 230,
     "metadata": {},
     "output_type": "execute_result"
    }
   ],
   "source": [
    "devices = ''\n",
    "update = []\n",
    "query = datastore_client.query(kind='updateDevice')\n",
    "dlist = list(devices.keys())\n",
    "dlist.sort()\n",
    "for device in dlist:   \n",
    "    key = datastore_client.key('updateDevice', device)\n",
    "    task_fleet = datastore_client.get(key)\n",
    "    task_fleet['update'] = 'yes'\n",
    "    datastore_client.put(task_fleet)\n",
    "update"
   ]
  },
  {
   "cell_type": "code",
   "execution_count": 216,
   "id": "crucial-smith",
   "metadata": {},
   "outputs": [
    {
     "data": {
      "text/plain": [
       "[]"
      ]
     },
     "execution_count": 216,
     "metadata": {},
     "output_type": "execute_result"
    }
   ],
   "source": [
    "devices = ''\n",
    "update = []\n",
    "query = datastore_client.query(kind='updateDevice')\n",
    "nolist = list(devices.keys())\n",
    "nolist.sort()\n",
    "for device in nolist:   \n",
    "    key = datastore_client.key('updateDevice', device)\n",
    "    task_fleet = datastore_client.get(key)\n",
    "    task_fleet['update'] = 'no'\n",
    "    datastore_client.put(task_fleet)\n",
    "update"
   ]
  },
  {
   "cell_type": "markdown",
   "id": "growing-quarterly",
   "metadata": {},
   "source": [
    "# "
   ]
  },
  {
   "cell_type": "code",
   "execution_count": 258,
   "id": "miniature-permit",
   "metadata": {},
   "outputs": [
    {
     "data": {
      "text/html": [
       "<div>\n",
       "<style scoped>\n",
       "    .dataframe tbody tr th:only-of-type {\n",
       "        vertical-align: middle;\n",
       "    }\n",
       "\n",
       "    .dataframe tbody tr th {\n",
       "        vertical-align: top;\n",
       "    }\n",
       "\n",
       "    .dataframe thead th {\n",
       "        text-align: right;\n",
       "    }\n",
       "</style>\n",
       "<table border=\"1\" class=\"dataframe\">\n",
       "  <thead>\n",
       "    <tr style=\"text-align: right;\">\n",
       "      <th></th>\n",
       "      <th>name</th>\n",
       "      <th>macID</th>\n",
       "      <th>last-updated</th>\n",
       "      <th>current version</th>\n",
       "      <th>downloaded version</th>\n",
       "      <th>last online status</th>\n",
       "      <th>currently flagged</th>\n",
       "    </tr>\n",
       "  </thead>\n",
       "  <tbody>\n",
       "    <tr>\n",
       "      <th>0</th>\n",
       "      <td>5027</td>\n",
       "      <td>b8:27:eb:03:9c:af</td>\n",
       "      <td>12/17/20 07:34:23</td>\n",
       "      <td>2.8B</td>\n",
       "      <td>f643c802d2d9514b90b95decd3a449d7</td>\n",
       "      <td>offline</td>\n",
       "      <td>yes</td>\n",
       "    </tr>\n",
       "    <tr>\n",
       "      <th>1</th>\n",
       "      <td>5176</td>\n",
       "      <td>b8:27:eb:0e:22:a2</td>\n",
       "      <td>12/17/20 13:47:38</td>\n",
       "      <td>2.8B</td>\n",
       "      <td>f643c802d2d9514b90b95decd3a449d7</td>\n",
       "      <td>offline</td>\n",
       "      <td>yes</td>\n",
       "    </tr>\n",
       "    <tr>\n",
       "      <th>2</th>\n",
       "      <td>5031</td>\n",
       "      <td>b8:27:eb:12:c4:6c</td>\n",
       "      <td>04/06/21 19:48:07</td>\n",
       "      <td>2.8.2</td>\n",
       "      <td>943c34aca1f65bf89648f3f2f503ddcd</td>\n",
       "      <td>offline</td>\n",
       "      <td>no</td>\n",
       "    </tr>\n",
       "    <tr>\n",
       "      <th>3</th>\n",
       "      <td>5033</td>\n",
       "      <td>b8:27:eb:14:0d:9a</td>\n",
       "      <td>04/05/21 11:48:57</td>\n",
       "      <td>2.8.2</td>\n",
       "      <td>943c34aca1f65bf89648f3f2f503ddcd</td>\n",
       "      <td>offline</td>\n",
       "      <td>no</td>\n",
       "    </tr>\n",
       "    <tr>\n",
       "      <th>4</th>\n",
       "      <td>1695</td>\n",
       "      <td>b8:27:eb:15:88:2c</td>\n",
       "      <td>04/05/21 15:44:23</td>\n",
       "      <td>2.8.2</td>\n",
       "      <td>943c34aca1f65bf89648f3f2f503ddcd</td>\n",
       "      <td>offline</td>\n",
       "      <td>no</td>\n",
       "    </tr>\n",
       "    <tr>\n",
       "      <th>5</th>\n",
       "      <td>5029</td>\n",
       "      <td>b8:27:eb:1c:2f:04</td>\n",
       "      <td>04/04/21 19:31:45</td>\n",
       "      <td>2.8.2</td>\n",
       "      <td>943c34aca1f65bf89648f3f2f503ddcd</td>\n",
       "      <td>offline</td>\n",
       "      <td>no</td>\n",
       "    </tr>\n",
       "    <tr>\n",
       "      <th>6</th>\n",
       "      <td>5184</td>\n",
       "      <td>b8:27:eb:1d:7a:4f</td>\n",
       "      <td>03/22/21 07:44:36</td>\n",
       "      <td>2.8F</td>\n",
       "      <td>c7b82b2ae52557139c5e490e31e26ee4</td>\n",
       "      <td>offline</td>\n",
       "      <td>yes</td>\n",
       "    </tr>\n",
       "    <tr>\n",
       "      <th>7</th>\n",
       "      <td>5190</td>\n",
       "      <td>b8:27:eb:1d:94:59</td>\n",
       "      <td>03/23/21 08:45:50</td>\n",
       "      <td>2.8.1</td>\n",
       "      <td>0e3564a086eb54e6a5a8373673e572fd</td>\n",
       "      <td>offline</td>\n",
       "      <td>yes</td>\n",
       "    </tr>\n",
       "    <tr>\n",
       "      <th>8</th>\n",
       "      <td>5178</td>\n",
       "      <td>b8:27:eb:1f:8d:37</td>\n",
       "      <td>09/17/20 16:51:30</td>\n",
       "      <td>2.7B</td>\n",
       "      <td>d23557d1b2e75293a4ff78c872f8764b</td>\n",
       "      <td>offline</td>\n",
       "      <td>yes</td>\n",
       "    </tr>\n",
       "    <tr>\n",
       "      <th>9</th>\n",
       "      <td>5199</td>\n",
       "      <td>b8:27:eb:20:3d:2b</td>\n",
       "      <td>04/04/21 19:55:24</td>\n",
       "      <td>2.8.2</td>\n",
       "      <td>943c34aca1f65bf89648f3f2f503ddcd</td>\n",
       "      <td>offline</td>\n",
       "      <td>no</td>\n",
       "    </tr>\n",
       "    <tr>\n",
       "      <th>10</th>\n",
       "      <td>5007</td>\n",
       "      <td>b8:27:eb:21:77:56</td>\n",
       "      <td>04/13/21 12:35:38</td>\n",
       "      <td>2.8.2</td>\n",
       "      <td>EPSEMS2-V2.9.2</td>\n",
       "      <td>offline</td>\n",
       "      <td>no</td>\n",
       "    </tr>\n",
       "    <tr>\n",
       "      <th>11</th>\n",
       "      <td>5069</td>\n",
       "      <td>b8:27:eb:2f:60:9e</td>\n",
       "      <td>03/31/21 07:18:54</td>\n",
       "      <td>2.8.2</td>\n",
       "      <td>943c34aca1f65bf89648f3f2f503ddcd</td>\n",
       "      <td>offline</td>\n",
       "      <td>no</td>\n",
       "    </tr>\n",
       "    <tr>\n",
       "      <th>12</th>\n",
       "      <td>5046</td>\n",
       "      <td>b8:27:eb:50:1a:c2</td>\n",
       "      <td>03/31/21 09:30:29</td>\n",
       "      <td>2.8.2</td>\n",
       "      <td>943c34aca1f65bf89648f3f2f503ddcd</td>\n",
       "      <td>ONLINE</td>\n",
       "      <td>no</td>\n",
       "    </tr>\n",
       "    <tr>\n",
       "      <th>13</th>\n",
       "      <td>5141</td>\n",
       "      <td>b8:27:eb:5f:b1:34</td>\n",
       "      <td>09/17/20 16:51:30</td>\n",
       "      <td>2.7B</td>\n",
       "      <td>EPSEMS2-V2.8B</td>\n",
       "      <td>offline</td>\n",
       "      <td>yes</td>\n",
       "    </tr>\n",
       "    <tr>\n",
       "      <th>14</th>\n",
       "      <td>5172</td>\n",
       "      <td>b8:27:eb:69:9f:b7</td>\n",
       "      <td>04/05/21 15:49:24</td>\n",
       "      <td>2.8.2</td>\n",
       "      <td>943c34aca1f65bf89648f3f2f503ddcd</td>\n",
       "      <td>ONLINE</td>\n",
       "      <td>no</td>\n",
       "    </tr>\n",
       "    <tr>\n",
       "      <th>15</th>\n",
       "      <td>1934</td>\n",
       "      <td>b8:27:eb:74:f3:03</td>\n",
       "      <td>04/09/21 02:00:36</td>\n",
       "      <td>2.9.2</td>\n",
       "      <td>EPSEMS2-V2.9.2</td>\n",
       "      <td>offline</td>\n",
       "      <td>no</td>\n",
       "    </tr>\n",
       "    <tr>\n",
       "      <th>16</th>\n",
       "      <td>5150</td>\n",
       "      <td>b8:27:eb:92:6f:f2</td>\n",
       "      <td>12/16/20 11:26:05</td>\n",
       "      <td>2.8B</td>\n",
       "      <td>f643c802d2d9514b90b95decd3a449d7</td>\n",
       "      <td>offline</td>\n",
       "      <td>yes</td>\n",
       "    </tr>\n",
       "    <tr>\n",
       "      <th>17</th>\n",
       "      <td>1093</td>\n",
       "      <td>b8:27:eb:9e:ab:0f</td>\n",
       "      <td>12/17/20 07:33:42</td>\n",
       "      <td>2.8B</td>\n",
       "      <td>f643c802d2d9514b90b95decd3a449d7</td>\n",
       "      <td>offline</td>\n",
       "      <td>yes</td>\n",
       "    </tr>\n",
       "    <tr>\n",
       "      <th>18</th>\n",
       "      <td>5179</td>\n",
       "      <td>b8:27:eb:a2:75:f1</td>\n",
       "      <td>09/17/20 16:51:30</td>\n",
       "      <td>2.7B</td>\n",
       "      <td>d23557d1b2e75293a4ff78c872f8764b</td>\n",
       "      <td>offline</td>\n",
       "      <td>yes</td>\n",
       "    </tr>\n",
       "    <tr>\n",
       "      <th>19</th>\n",
       "      <td>5175</td>\n",
       "      <td>b8:27:eb:a6:b3:aa</td>\n",
       "      <td>09/17/20 16:51:30</td>\n",
       "      <td>2.7B</td>\n",
       "      <td>d23557d1b2e75293a4ff78c872f8764b</td>\n",
       "      <td>offline</td>\n",
       "      <td>yes</td>\n",
       "    </tr>\n",
       "    <tr>\n",
       "      <th>20</th>\n",
       "      <td>1064</td>\n",
       "      <td>b8:27:eb:a7:8b:ff</td>\n",
       "      <td>04/04/21 20:01:08</td>\n",
       "      <td>2.8.2</td>\n",
       "      <td>943c34aca1f65bf89648f3f2f503ddcd</td>\n",
       "      <td>ONLINE</td>\n",
       "      <td>no</td>\n",
       "    </tr>\n",
       "    <tr>\n",
       "      <th>21</th>\n",
       "      <td>5148</td>\n",
       "      <td>b8:27:eb:ab:dd:49</td>\n",
       "      <td>100.0</td>\n",
       "      <td>AA</td>\n",
       "      <td>AA</td>\n",
       "      <td>offline</td>\n",
       "      <td>no</td>\n",
       "    </tr>\n",
       "    <tr>\n",
       "      <th>22</th>\n",
       "      <td>5081</td>\n",
       "      <td>b8:27:eb:b7:23:e3</td>\n",
       "      <td>02/03/21 08:55:04</td>\n",
       "      <td>2.9B</td>\n",
       "      <td>c13a2ad8982a59bcbea9fc6a4d240ed1</td>\n",
       "      <td>offline</td>\n",
       "      <td>no</td>\n",
       "    </tr>\n",
       "    <tr>\n",
       "      <th>23</th>\n",
       "      <td>1884</td>\n",
       "      <td>b8:27:eb:ba:15:05</td>\n",
       "      <td>04/05/21 11:36:20</td>\n",
       "      <td>2.8.2</td>\n",
       "      <td>943c34aca1f65bf89648f3f2f503ddcd</td>\n",
       "      <td>offline</td>\n",
       "      <td>no</td>\n",
       "    </tr>\n",
       "    <tr>\n",
       "      <th>24</th>\n",
       "      <td>1699</td>\n",
       "      <td>b8:27:eb:fd:af:6d</td>\n",
       "      <td>04/02/21 20:12:55</td>\n",
       "      <td>2.8.2</td>\n",
       "      <td>EPSEMS2-V2.8.2</td>\n",
       "      <td>offline</td>\n",
       "      <td>no</td>\n",
       "    </tr>\n",
       "  </tbody>\n",
       "</table>\n",
       "</div>"
      ],
      "text/plain": [
       "    name              macID       last-updated current version  \\\n",
       "0   5027  b8:27:eb:03:9c:af  12/17/20 07:34:23            2.8B   \n",
       "1   5176  b8:27:eb:0e:22:a2  12/17/20 13:47:38            2.8B   \n",
       "2   5031  b8:27:eb:12:c4:6c  04/06/21 19:48:07           2.8.2   \n",
       "3   5033  b8:27:eb:14:0d:9a  04/05/21 11:48:57           2.8.2   \n",
       "4   1695  b8:27:eb:15:88:2c  04/05/21 15:44:23           2.8.2   \n",
       "5   5029  b8:27:eb:1c:2f:04  04/04/21 19:31:45           2.8.2   \n",
       "6   5184  b8:27:eb:1d:7a:4f  03/22/21 07:44:36            2.8F   \n",
       "7   5190  b8:27:eb:1d:94:59  03/23/21 08:45:50           2.8.1   \n",
       "8   5178  b8:27:eb:1f:8d:37  09/17/20 16:51:30            2.7B   \n",
       "9   5199  b8:27:eb:20:3d:2b  04/04/21 19:55:24           2.8.2   \n",
       "10  5007  b8:27:eb:21:77:56  04/13/21 12:35:38           2.8.2   \n",
       "11  5069  b8:27:eb:2f:60:9e  03/31/21 07:18:54           2.8.2   \n",
       "12  5046  b8:27:eb:50:1a:c2  03/31/21 09:30:29           2.8.2   \n",
       "13  5141  b8:27:eb:5f:b1:34  09/17/20 16:51:30            2.7B   \n",
       "14  5172  b8:27:eb:69:9f:b7  04/05/21 15:49:24           2.8.2   \n",
       "15  1934  b8:27:eb:74:f3:03  04/09/21 02:00:36           2.9.2   \n",
       "16  5150  b8:27:eb:92:6f:f2  12/16/20 11:26:05            2.8B   \n",
       "17  1093  b8:27:eb:9e:ab:0f  12/17/20 07:33:42            2.8B   \n",
       "18  5179  b8:27:eb:a2:75:f1  09/17/20 16:51:30            2.7B   \n",
       "19  5175  b8:27:eb:a6:b3:aa  09/17/20 16:51:30            2.7B   \n",
       "20  1064  b8:27:eb:a7:8b:ff  04/04/21 20:01:08           2.8.2   \n",
       "21  5148  b8:27:eb:ab:dd:49              100.0              AA   \n",
       "22  5081  b8:27:eb:b7:23:e3  02/03/21 08:55:04            2.9B   \n",
       "23  1884  b8:27:eb:ba:15:05  04/05/21 11:36:20           2.8.2   \n",
       "24  1699  b8:27:eb:fd:af:6d  04/02/21 20:12:55           2.8.2   \n",
       "\n",
       "                  downloaded version last online status currently flagged  \n",
       "0   f643c802d2d9514b90b95decd3a449d7            offline               yes  \n",
       "1   f643c802d2d9514b90b95decd3a449d7            offline               yes  \n",
       "2   943c34aca1f65bf89648f3f2f503ddcd            offline                no  \n",
       "3   943c34aca1f65bf89648f3f2f503ddcd            offline                no  \n",
       "4   943c34aca1f65bf89648f3f2f503ddcd            offline                no  \n",
       "5   943c34aca1f65bf89648f3f2f503ddcd            offline                no  \n",
       "6   c7b82b2ae52557139c5e490e31e26ee4            offline               yes  \n",
       "7   0e3564a086eb54e6a5a8373673e572fd            offline               yes  \n",
       "8   d23557d1b2e75293a4ff78c872f8764b            offline               yes  \n",
       "9   943c34aca1f65bf89648f3f2f503ddcd            offline                no  \n",
       "10                    EPSEMS2-V2.9.2            offline                no  \n",
       "11  943c34aca1f65bf89648f3f2f503ddcd            offline                no  \n",
       "12  943c34aca1f65bf89648f3f2f503ddcd             ONLINE                no  \n",
       "13                     EPSEMS2-V2.8B            offline               yes  \n",
       "14  943c34aca1f65bf89648f3f2f503ddcd             ONLINE                no  \n",
       "15                    EPSEMS2-V2.9.2            offline                no  \n",
       "16  f643c802d2d9514b90b95decd3a449d7            offline               yes  \n",
       "17  f643c802d2d9514b90b95decd3a449d7            offline               yes  \n",
       "18  d23557d1b2e75293a4ff78c872f8764b            offline               yes  \n",
       "19  d23557d1b2e75293a4ff78c872f8764b            offline               yes  \n",
       "20  943c34aca1f65bf89648f3f2f503ddcd             ONLINE                no  \n",
       "21                                AA            offline                no  \n",
       "22  c13a2ad8982a59bcbea9fc6a4d240ed1            offline                no  \n",
       "23  943c34aca1f65bf89648f3f2f503ddcd            offline                no  \n",
       "24                    EPSEMS2-V2.8.2            offline                no  "
      ]
     },
     "execution_count": 258,
     "metadata": {},
     "output_type": "execute_result"
    }
   ],
   "source": [
    "update = []\n",
    "query = datastore_client.query(kind='deviceregister')\n",
    "\n",
    "dlist = list(devices.keys())\n",
    "dlist.sort()\n",
    "table = []\n",
    "online = {'pi-up':'ONLINE','pi-down':'offline'}\n",
    "for device in dlist:   \n",
    "    register_key = datastore_client.key('deviceregister', device)\n",
    "    task_fleet = datastore_client.get(register_key)\n",
    "    last_key = datastore_client.key('last', device)\n",
    "    last = datastore_client.get(last_key)\n",
    "    \n",
    "    key = datastore_client.key('updateDevice', device)\n",
    "    update = datastore_client.get(key)\n",
    "    \n",
    "    table.append({'name':devices[device],'macID':device,'last-updated':task_fleet['last-updated'],\n",
    "                  'current version':task_fleet['release-id'].split('-V')[-1],\n",
    "                  'downloaded version':task_fleet['unique-id'],'last online status':online[last['system-status']],'currently flagged':update['update']})\n",
    "    #print(devices[device]+' : '+device+' - '+task_fleet['last-updated']+' - '+task_fleet['release-id']+' - '+task_fleet['unique-id']+' - ')\n",
    "update\n",
    "update_df = pd.DataFrame(table)\n",
    "update_df.sort_values('current version').sort_values('macID')#.to_excel('update_status.xlsx')"
   ]
  },
  {
   "cell_type": "code",
   "execution_count": 128,
   "id": "convenient-somalia",
   "metadata": {},
   "outputs": [
    {
     "name": "stdout",
     "output_type": "stream",
     "text": [
      "b8:27:eb:21:77:56 - yes\n"
     ]
    },
    {
     "data": {
      "text/plain": [
       "[]"
      ]
     },
     "execution_count": 128,
     "metadata": {},
     "output_type": "execute_result"
    }
   ],
   "source": [
    "update = []\n",
    "query = datastore_client.query(kind='updateDevice')\n",
    "dlist = ['b8:27:eb:21:77:56']#list(devices.keys())\n",
    "dlist.sort()\n",
    "for device in dlist:   \n",
    "    key = datastore_client.key('updateDevice', device)\n",
    "    task_fleet = datastore_client.get(key)\n",
    "    print(device+' - '+task_fleet['update'])\n",
    "update"
   ]
  },
  {
   "cell_type": "code",
   "execution_count": 108,
   "id": "white-riverside",
   "metadata": {},
   "outputs": [],
   "source": [
    "update_df.to_excel('update_status.xlsx')"
   ]
  },
  {
   "cell_type": "code",
   "execution_count": 197,
   "id": "tropical-watch",
   "metadata": {},
   "outputs": [],
   "source": [
    "yes_list = update_df[update_df['current version'] != '2.8.2']['macID'].tolist()"
   ]
  },
  {
   "cell_type": "code",
   "execution_count": 214,
   "id": "precise-paintball",
   "metadata": {},
   "outputs": [],
   "source": [
    "update_df.sort_values('current version').sort_values('currently flagged').to_csv('update.csv')"
   ]
  },
  {
   "cell_type": "code",
   "execution_count": 260,
   "id": "legal-baking",
   "metadata": {},
   "outputs": [
    {
     "data": {
      "text/plain": [
       "'\"{\\'b8:27:eb:1d:7a:4f\\': \\'5184\\',\\'b8:27:eb:1d:94:59\\': \\'5190\\'}\"'"
      ]
     },
     "execution_count": 260,
     "metadata": {},
     "output_type": "execute_result"
    }
   ],
   "source": [
    "import json\n",
    "json.dumps(\"{'b8:27:eb:1d:7a:4f': '5184','b8:27:eb:1d:94:59': '5190'}\")"
   ]
  },
  {
   "cell_type": "code",
   "execution_count": null,
   "id": "sweet-performer",
   "metadata": {},
   "outputs": [],
   "source": [
    "update = []\n",
    "query = datastore_client.query(kind='deviceregister')\n",
    "\n",
    "dlist = list(devices.keys())\n",
    "dlist.sort()\n",
    "table = []\n",
    "online = {'pi-up':'ONLINE','pi-down':'offline'}\n",
    "for device in dlist:   \n",
    "    register_key = datastore_client.key('deviceregister', device)\n",
    "    task_fleet = datastore_client.get(register_key)\n",
    "    last_key = datastore_client.key('last', device)\n",
    "    last = datastore_client.get(last_key)\n",
    "    \n",
    "    key = datastore_client.key('updateDevice', device)\n",
    "    update = datastore_client.get(key)\n",
    "    \n",
    "    table.append({'name':devices[device],'macID':device,'last-updated':task_fleet['last-updated'],\n",
    "                  'current version':task_fleet['release-id'].split('-V')[-1],\n",
    "                  'downloaded version':task_fleet['unique-id'],'last online status':online[last['system-status']],'currently flagged':update['update']})\n",
    "    #print(devices[device]+' : '+device+' - '+task_fleet['last-updated']+' - '+task_fleet['release-id']+' - '+task_fleet['unique-id']+' - ')\n",
    "update\n",
    "update_df = pd.DataFrame(table)\n",
    "update_df.sort_values('current version').sort_values('macID')#.to_excel('update_status.xlsx')"
   ]
  },
  {
   "cell_type": "code",
   "execution_count": 255,
   "id": "circular-employee",
   "metadata": {},
   "outputs": [
    {
     "name": "stdout",
     "output_type": "stream",
     "text": [
      "16\n"
     ]
    },
    {
     "data": {
      "text/plain": [
       "42"
      ]
     },
     "execution_count": 255,
     "metadata": {},
     "output_type": "execute_result"
    }
   ],
   "source": [
    "query = datastore_client.query(kind='deviceregister')\n",
    "query.add_filter('release-id', '=', 'EPSEMS2-V2.8.2')\n",
    "flagged = [device.key.name for device in list(query.fetch())]\n",
    "query = datastore_client.query(kind='deviceregister')\n",
    "query.add_filter('release-id', '=', 'EPSEMS2-V2.9.2')\n",
    "flagged = flagged + [device.key.name for device in list(query.fetch())]"
   ]
  },
  {
   "cell_type": "code",
   "execution_count": 144,
   "id": "exceptional-microphone",
   "metadata": {},
   "outputs": [
    {
     "data": {
      "text/plain": [
       "['b8:27:eb:b7:23:e3']"
      ]
     },
     "execution_count": 144,
     "metadata": {},
     "output_type": "execute_result"
    }
   ],
   "source": [
    "list(devices.keys())"
   ]
  },
  {
   "cell_type": "raw",
   "id": "twenty-field",
   "metadata": {},
   "source": []
  },
  {
   "cell_type": "code",
   "execution_count": null,
   "id": "quiet-pollution",
   "metadata": {},
   "outputs": [],
   "source": []
  },
  {
   "cell_type": "code",
   "execution_count": null,
   "id": "figured-paraguay",
   "metadata": {},
   "outputs": [],
   "source": []
  },
  {
   "cell_type": "code",
   "execution_count": null,
   "id": "ranking-mainstream",
   "metadata": {},
   "outputs": [],
   "source": []
  },
  {
   "cell_type": "code",
   "execution_count": null,
   "id": "worse-swing",
   "metadata": {},
   "outputs": [],
   "source": []
  },
  {
   "cell_type": "code",
   "execution_count": null,
   "id": "ordered-manchester",
   "metadata": {},
   "outputs": [],
   "source": []
  }
 ],
 "metadata": {
  "kernelspec": {
   "display_name": "Python 3",
   "language": "python",
   "name": "python3"
  },
  "language_info": {
   "codemirror_mode": {
    "name": "ipython",
    "version": 3
   },
   "file_extension": ".py",
   "mimetype": "text/x-python",
   "name": "python",
   "nbconvert_exporter": "python",
   "pygments_lexer": "ipython3",
   "version": "3.8.6"
  }
 },
 "nbformat": 4,
 "nbformat_minor": 5
}
